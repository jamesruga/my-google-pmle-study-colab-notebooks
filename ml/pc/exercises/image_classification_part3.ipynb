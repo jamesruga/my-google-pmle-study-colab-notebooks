{
  "cells": [
    {
      "cell_type": "markdown",
      "metadata": {
        "id": "view-in-github",
        "colab_type": "text"
      },
      "source": [
        "<a href=\"https://colab.research.google.com/github/jamesruga/my-google-pmle-study-colab-notebooks/blob/main/ml/pc/exercises/image_classification_part3.ipynb\" target=\"_parent\"><img src=\"https://colab.research.google.com/assets/colab-badge.svg\" alt=\"Open In Colab\"/></a>"
      ]
    },
    {
      "cell_type": "markdown",
      "metadata": {
        "id": "jTEzoMx6CasV"
      },
      "source": [
        "#### Copyright 2018 Google LLC."
      ]
    },
    {
      "cell_type": "code",
      "execution_count": 2,
      "metadata": {
        "id": "IhmPj1VVCfWb"
      },
      "outputs": [],
      "source": [
        "# Licensed under the Apache License, Version 2.0 (the \"License\");\n",
        "# you may not use this file except in compliance with the License.\n",
        "# You may obtain a copy of the License at\n",
        "#\n",
        "# https://www.apache.org/licenses/LICENSE-2.0\n",
        "#\n",
        "# Unless required by applicable law or agreed to in writing, software\n",
        "# distributed under the License is distributed on an \"AS IS\" BASIS,\n",
        "# WITHOUT WARRANTIES OR CONDITIONS OF ANY KIND, either express or implied.\n",
        "# See the License for the specific language governing permissions and\n",
        "# limitations under the License."
      ]
    },
    {
      "cell_type": "markdown",
      "metadata": {
        "id": "YHK6DyunSbs4"
      },
      "source": [
        "# Cat vs. Dog Image Classification\n",
        "## Exercise 3: Feature Extraction and Fine-Tuning\n",
        "**_Estimated completion time: 30 minutes_**\n",
        "\n",
        "In Exercise 1, we built a convnet from scratch, and were able to achieve an accuracy of about 70%. With the addition of data augmentation and dropout in Exercise 2, we were able to increase accuracy to about 80%. That seems decent, but 20% is still too high of an error rate. Maybe we just don't have enough training data available to properly solve the problem. What other approaches can we try?\n",
        "\n",
        "In this exercise, we'll look at two techniques for repurposing feature data generated from image models that have already been trained on large sets of data, **feature extraction** and **fine tuning**, and use them to improve the accuracy of our cat vs. dog classification model."
      ]
    },
    {
      "cell_type": "markdown",
      "metadata": {
        "id": "dI5rmt4UBwXs"
      },
      "source": [
        "## Feature Extraction Using a Pretrained Model\n",
        "\n",
        "One thing that is commonly done in computer vision is to take a model trained on a very large dataset, run it on your own, smaller dataset, and extract the intermediate representations (features) that the model generates. These representations are frequently informative for your own computer vision task, even though the task may be quite different from the problem that the original model was trained on. This versatility and repurposability of convnets is one of the most interesting aspects of deep learning.\n",
        "\n",
        "In our case, we will use the [Inception V3 model](https://arxiv.org/abs/1512.00567) developed at Google, and pre-trained on [ImageNet](http://image-net.org/), a large dataset of web images (1.4M images and 1000 classes). This is a powerful model; let's see what the features that it has learned can do for our cat vs. dog problem.\n",
        "\n",
        "First, we need to pick which intermediate layer of Inception V3 we will use for feature extraction. A common practice is to use the output of the very last layer before the `Flatten` operation, the so-called \"bottleneck layer.\" The reasoning here is that the following fully connected layers will be too specialized for the task the network was trained on, and thus the features learned by these layers won't be very useful for a new task. The bottleneck features, however, retain much generality.\n",
        "\n",
        "Let's instantiate an Inception V3 model preloaded with weights trained on ImageNet:\n"
      ]
    },
    {
      "cell_type": "code",
      "execution_count": 1,
      "metadata": {
        "id": "1xJZ5glPPCRz"
      },
      "outputs": [],
      "source": [
        "import os\n",
        "\n",
        "from tensorflow.keras import layers\n",
        "from tensorflow.keras import Model"
      ]
    },
    {
      "cell_type": "markdown",
      "metadata": {
        "id": "VaXLMtYiF0t9"
      },
      "source": [
        "Now let's download the weights:"
      ]
    },
    {
      "cell_type": "code",
      "execution_count": 4,
      "metadata": {
        "colab": {
          "base_uri": "https://localhost:8080/"
        },
        "id": "KMrbllgAFipZ",
        "outputId": "21978035-b234-4338-cc35-66d7ef566ab1"
      },
      "outputs": [
        {
          "output_type": "stream",
          "name": "stdout",
          "text": [
            "--2025-09-05 04:39:08--  https://storage.googleapis.com/mledu-datasets/inception_v3_weights_tf_dim_ordering_tf_kernels_notop.h5\n",
            "Resolving storage.googleapis.com (storage.googleapis.com)... 173.194.212.207, 74.125.139.207, 173.194.215.207, ...\n",
            "Connecting to storage.googleapis.com (storage.googleapis.com)|173.194.212.207|:443... connected.\n",
            "HTTP request sent, awaiting response... 200 OK\n",
            "Length: 87910968 (84M) [application/x-hdf]\n",
            "Saving to: ‘/tmp/inception_v3_weights_tf_dim_ordering_tf_kernels_notop.h5’\n",
            "\n",
            "/tmp/inception_v3_w 100%[===================>]  83.84M   116MB/s    in 0.7s    \n",
            "\n",
            "2025-09-05 04:39:09 (116 MB/s) - ‘/tmp/inception_v3_weights_tf_dim_ordering_tf_kernels_notop.h5’ saved [87910968/87910968]\n",
            "\n"
          ]
        }
      ],
      "source": [
        "!wget --no-check-certificate \\\n",
        "    https://storage.googleapis.com/mledu-datasets/inception_v3_weights_tf_dim_ordering_tf_kernels_notop.h5 \\\n",
        "    -O /tmp/inception_v3_weights_tf_dim_ordering_tf_kernels_notop.h5"
      ]
    },
    {
      "cell_type": "code",
      "execution_count": 5,
      "metadata": {
        "id": "UnRiGBfOF8rq"
      },
      "outputs": [],
      "source": [
        "from tensorflow.keras.applications.inception_v3 import InceptionV3\n",
        "\n",
        "local_weights_file = '/tmp/inception_v3_weights_tf_dim_ordering_tf_kernels_notop.h5'\n",
        "pre_trained_model = InceptionV3(\n",
        "    input_shape=(150, 150, 3), include_top=False, weights=None)\n",
        "pre_trained_model.load_weights(local_weights_file)"
      ]
    },
    {
      "cell_type": "markdown",
      "metadata": {
        "id": "IcYZPBS3bTAj"
      },
      "source": [
        "By specifying the `include_top=False` argument, we load a network that doesn't include the classification layers at the top—ideal for feature extraction."
      ]
    },
    {
      "cell_type": "markdown",
      "metadata": {
        "id": "CFxrqTuJee5m"
      },
      "source": [
        "Let's make the model non-trainable, since we will only use it for feature extraction; we won't update the weights of the pretrained model during training."
      ]
    },
    {
      "cell_type": "code",
      "execution_count": 6,
      "metadata": {
        "id": "a38rB3lyedcB"
      },
      "outputs": [],
      "source": [
        "for layer in pre_trained_model.layers:\n",
        "  layer.trainable = False"
      ]
    },
    {
      "cell_type": "markdown",
      "metadata": {
        "id": "XGBGDiOAepnO"
      },
      "source": [
        "The layer we will use for feature extraction in Inception v3 is called `mixed7`. It is not the bottleneck of the network, but we are using it to keep a sufficiently large feature map (7x7 in this case). (Using the bottleneck layer would have resulting in a 3x3 feature map, which is a bit small.) Let's get the output from `mixed7`:"
      ]
    },
    {
      "cell_type": "code",
      "execution_count": 9,
      "metadata": {
        "colab": {
          "base_uri": "https://localhost:8080/"
        },
        "id": "Cj4rXshqbQlS",
        "outputId": "51718eb0-fbda-4500-d441-9e35b3e56fd5"
      },
      "outputs": [
        {
          "output_type": "stream",
          "name": "stdout",
          "text": [
            "last layer output shape: (None, 7, 7, 768)\n"
          ]
        }
      ],
      "source": [
        "last_layer = pre_trained_model.get_layer('mixed7')\n",
        "print('last layer output shape:', last_layer.output.shape)\n",
        "last_output = last_layer.output"
      ]
    },
    {
      "cell_type": "markdown",
      "metadata": {
        "id": "XxHk6XQLeUWh"
      },
      "source": [
        "Now let's stick a fully connected classifier on top of `last_output`:"
      ]
    },
    {
      "cell_type": "code",
      "execution_count": 11,
      "metadata": {
        "id": "BMXb913pbvFg"
      },
      "outputs": [],
      "source": [
        "from tensorflow.keras.optimizers import RMSprop\n",
        "\n",
        "# Flatten the output layer to 1 dimension\n",
        "x = layers.Flatten()(last_output)\n",
        "# Add a fully connected layer with 1,024 hidden units and ReLU activation\n",
        "x = layers.Dense(1024, activation='relu')(x)\n",
        "# Add a dropout rate of 0.2\n",
        "x = layers.Dropout(0.2)(x)\n",
        "# Add a final sigmoid layer for classification\n",
        "x = layers.Dense(1, activation='sigmoid')(x)\n",
        "\n",
        "# Configure and compile the model\n",
        "model = Model(pre_trained_model.input, x)\n",
        "model.compile(loss='binary_crossentropy',\n",
        "              optimizer=RMSprop(learning_rate=0.0001),\n",
        "              metrics=['acc'])"
      ]
    },
    {
      "cell_type": "markdown",
      "metadata": {
        "id": "_6ECjowwV5Ug"
      },
      "source": [
        "For examples and data preprocessing, let's use the same files and `train_generator` as we did in Exercise 2."
      ]
    },
    {
      "cell_type": "markdown",
      "metadata": {
        "id": "Cl-IqOTjZVw_"
      },
      "source": [
        "**NOTE:** The 2,000 images used in this exercise are excerpted from the [\"Dogs vs. Cats\" dataset](https://www.kaggle.com/c/dogs-vs-cats/data) available on Kaggle, which contains 25,000 images. Here, we use a subset of the full dataset to decrease training time for educational purposes."
      ]
    },
    {
      "cell_type": "code",
      "execution_count": 12,
      "metadata": {
        "colab": {
          "base_uri": "https://localhost:8080/"
        },
        "id": "O4s8HckqGlnb",
        "outputId": "3000c55c-0e8b-4cfe-9912-00fea41ce5fd"
      },
      "outputs": [
        {
          "output_type": "stream",
          "name": "stdout",
          "text": [
            "--2025-09-05 04:42:17--  https://storage.googleapis.com/mledu-datasets/cats_and_dogs_filtered.zip\n",
            "Resolving storage.googleapis.com (storage.googleapis.com)... 173.194.210.207, 142.251.107.207, 74.125.196.207, ...\n",
            "Connecting to storage.googleapis.com (storage.googleapis.com)|173.194.210.207|:443... connected.\n",
            "HTTP request sent, awaiting response... 200 OK\n",
            "Length: 68606236 (65M) [application/zip]\n",
            "Saving to: ‘/tmp/cats_and_dogs_filtered.zip’\n",
            "\n",
            "/tmp/cats_and_dogs_ 100%[===================>]  65.43M  87.0MB/s    in 0.8s    \n",
            "\n",
            "2025-09-05 04:42:18 (87.0 MB/s) - ‘/tmp/cats_and_dogs_filtered.zip’ saved [68606236/68606236]\n",
            "\n"
          ]
        }
      ],
      "source": [
        "!wget --no-check-certificate \\\n",
        "   https://storage.googleapis.com/mledu-datasets/cats_and_dogs_filtered.zip -O \\\n",
        "   /tmp/cats_and_dogs_filtered.zip"
      ]
    },
    {
      "cell_type": "code",
      "execution_count": 16,
      "metadata": {
        "colab": {
          "base_uri": "https://localhost:8080/"
        },
        "id": "Fl9XXARuV_eg",
        "outputId": "2432baf3-9fe6-47e5-9ffb-37eccfbc2157"
      },
      "outputs": [
        {
          "output_type": "stream",
          "name": "stdout",
          "text": [
            "Found 2000 images belonging to 2 classes.\n",
            "Found 1000 images belonging to 2 classes.\n"
          ]
        }
      ],
      "source": [
        "import os\n",
        "import zipfile\n",
        "\n",
        "from tensorflow.keras.preprocessing.image import ImageDataGenerator\n",
        "\n",
        "local_zip = '/tmp/cats_and_dogs_filtered.zip'\n",
        "zip_ref = zipfile.ZipFile(local_zip, 'r')\n",
        "zip_ref.extractall('/tmp')\n",
        "zip_ref.close()\n",
        "\n",
        "# Define our example directories and files\n",
        "base_dir = '/tmp/cats_and_dogs_filtered'\n",
        "train_dir = os.path.join(base_dir, 'train')\n",
        "validation_dir = os.path.join(base_dir, 'validation')\n",
        "\n",
        "# Directory with our training cat pictures\n",
        "train_cats_dir = os.path.join(train_dir, 'cats')\n",
        "\n",
        "# Directory with our training dog pictures\n",
        "train_dogs_dir = os.path.join(train_dir, 'dogs')\n",
        "\n",
        "# Directory with our validation cat pictures\n",
        "validation_cats_dir = os.path.join(validation_dir, 'cats')\n",
        "\n",
        "# Directory with our validation dog pictures\n",
        "validation_dogs_dir = os.path.join(validation_dir, 'dogs')\n",
        "\n",
        "train_cat_fnames = os.listdir(train_cats_dir)\n",
        "train_dog_fnames = os.listdir(train_dogs_dir)\n",
        "\n",
        "# Add our data-augmentation parameters to ImageDataGenerator\n",
        "train_datagen = ImageDataGenerator(\n",
        "    rescale=1./255,\n",
        "    rotation_range=40,\n",
        "    width_shift_range=0.2,\n",
        "    height_shift_range=0.2,\n",
        "    shear_range=0.2,\n",
        "    zoom_range=0.2,\n",
        "    horizontal_flip=True)\n",
        "\n",
        "# Note that the validation data should not be augmented!\n",
        "val_datagen = ImageDataGenerator(rescale=1./255)\n",
        "\n",
        "train_generator = train_datagen.flow_from_directory(\n",
        "        train_dir, # This is the source directory for training images\n",
        "        target_size=(150, 150),  # All images will be resized to 150x150\n",
        "        batch_size=20,\n",
        "        # Since we use binary_crossentropy loss, we need binary labels\n",
        "        class_mode='binary')\n",
        "\n",
        "# Flow validation images in batches of 20 using val_datagen generator\n",
        "validation_generator = val_datagen.flow_from_directory(\n",
        "        validation_dir,\n",
        "        target_size=(150, 150),\n",
        "        batch_size=20,\n",
        "        class_mode='binary')"
      ]
    },
    {
      "cell_type": "markdown",
      "metadata": {
        "id": "qEC1AL7iVRLz"
      },
      "source": [
        "Finally, let's train the model using the features we extracted. We'll train on all 2000 images available, for 2 epochs, and validate on all 1,000 validation images."
      ]
    },
    {
      "cell_type": "code",
      "execution_count": 17,
      "metadata": {
        "colab": {
          "base_uri": "https://localhost:8080/"
        },
        "id": "Blhq2MAUeyGA",
        "outputId": "242adbfc-ee85-4ff4-91f9-a42b40fd975c"
      },
      "outputs": [
        {
          "output_type": "stream",
          "name": "stderr",
          "text": [
            "/usr/local/lib/python3.12/dist-packages/keras/src/trainers/data_adapters/py_dataset_adapter.py:121: UserWarning: Your `PyDataset` class should call `super().__init__(**kwargs)` in its constructor. `**kwargs` can include `workers`, `use_multiprocessing`, `max_queue_size`. Do not pass these arguments to `fit()`, as they will be ignored.\n",
            "  self._warn_if_super_not_called()\n"
          ]
        },
        {
          "output_type": "stream",
          "name": "stdout",
          "text": [
            "Epoch 1/2\n",
            "100/100 - 33s - 331ms/step - acc: 0.8585 - loss: 0.3432 - val_acc: 0.9490 - val_loss: 0.1159\n",
            "Epoch 2/2\n",
            "100/100 - 15s - 148ms/step - acc: 0.9230 - loss: 0.1879 - val_acc: 0.9350 - val_loss: 0.1778\n"
          ]
        }
      ],
      "source": [
        "history = model.fit(\n",
        "      train_generator,\n",
        "      steps_per_epoch=100,\n",
        "      epochs=2,\n",
        "      validation_data=validation_generator,\n",
        "      validation_steps=50,\n",
        "      verbose=2)"
      ]
    },
    {
      "cell_type": "markdown",
      "metadata": {
        "id": "lRjyAkE62aOG"
      },
      "source": [
        "You can see that we reach a validation accuracy of 88–90% very quickly. This is much better than the small model we trained from scratch."
      ]
    },
    {
      "cell_type": "markdown",
      "metadata": {
        "id": "tt15y6IS2pBo"
      },
      "source": [
        "## Further Improving Accuracy with Fine-Tuning\n",
        "\n",
        "In our feature-extraction experiment, we only tried adding two classification layers on top of an Inception V3 layer. The weights of the pretrained network were not updated during training. One way to increase performance even further is to \"fine-tune\" the weights of the top layers of the pretrained model alongside the training of the top-level classifier. A couple of important notes on fine-tuning:\n",
        "\n",
        "- **Fine-tuning should only be attempted *after* you have trained the top-level classifier with the pretrained model set to non-trainable**. If you add a randomly initialized classifier on top of a pretrained model and attempt to train all layers jointly, the magnitude of the gradient updates will be too large (due to the random weights from the classifier), and your pretrained model will just forget everything it has learned.\n",
        "- Additionally, we **fine-tune only the *top layers* of the pre-trained model** rather than all layers of the pretrained model because, in a convnet, the higher up a layer is, the more specialized it is. The first few layers in a convnet learn very simple and generic features, which generalize to almost all types of images. But as you go higher up, the features are increasingly specific to the dataset that the model is trained on. The goal of fine-tuning is to adapt these specialized features to work with the new dataset.\n",
        "\n",
        "All we need to do to implement fine-tuning is to set the top layers of Inception V3 to be trainable, recompile the model (necessary for these changes to take effect), and resume training. Let's unfreeze all layers belonging to the `mixed7` module—i.e., all layers found after `mixed6`—and recompile the model:"
      ]
    },
    {
      "cell_type": "code",
      "execution_count": 19,
      "metadata": {
        "id": "_l_J4S0Z2rgg"
      },
      "outputs": [],
      "source": [
        "from tensorflow.keras.optimizers import SGD\n",
        "\n",
        "unfreeze = False\n",
        "\n",
        "# Unfreeze all models after \"mixed6\"\n",
        "for layer in pre_trained_model.layers:\n",
        "  if unfreeze:\n",
        "    layer.trainable = True\n",
        "  if layer.name == 'mixed6':\n",
        "    unfreeze = True\n",
        "\n",
        "# As an optimizer, here we will use SGD\n",
        "# with a very low learning rate (0.00001)\n",
        "model.compile(loss='binary_crossentropy',\n",
        "              optimizer=SGD(\n",
        "                  learning_rate=0.00001,\n",
        "                  momentum=0.9),\n",
        "              metrics=['acc'])"
      ]
    },
    {
      "cell_type": "markdown",
      "metadata": {
        "id": "zE37ARlqY9da"
      },
      "source": [
        "Now let's retrain the model. We'll train on all 2000 images available, for 50 epochs, and validate on all 1,000 validation images. (This may take 15-20 minutes to run.)"
      ]
    },
    {
      "cell_type": "code",
      "execution_count": 22,
      "metadata": {
        "colab": {
          "base_uri": "https://localhost:8080/"
        },
        "id": "o_GgDGG4Y_hJ",
        "outputId": "d9e3d8d5-5453-44a0-b60d-13eb203c1cb4"
      },
      "outputs": [
        {
          "output_type": "stream",
          "name": "stdout",
          "text": [
            "Epoch 1/50\n",
            "100/100 - 34s - 340ms/step - acc: 0.9040 - loss: 0.2407 - val_acc: 0.9330 - val_loss: 0.1502\n",
            "Epoch 2/50\n",
            "100/100 - 29s - 286ms/step - acc: 0.9040 - loss: 0.2331 - val_acc: 0.9360 - val_loss: 0.1495\n",
            "Epoch 3/50\n",
            "100/100 - 21s - 211ms/step - acc: 0.9085 - loss: 0.2308 - val_acc: 0.9400 - val_loss: 0.1484\n",
            "Epoch 4/50\n",
            "100/100 - 16s - 160ms/step - acc: 0.9070 - loss: 0.2258 - val_acc: 0.9430 - val_loss: 0.1465\n",
            "Epoch 5/50\n",
            "100/100 - 20s - 204ms/step - acc: 0.9170 - loss: 0.2066 - val_acc: 0.9430 - val_loss: 0.1455\n",
            "Epoch 6/50\n",
            "100/100 - 20s - 197ms/step - acc: 0.9065 - loss: 0.2241 - val_acc: 0.9430 - val_loss: 0.1449\n",
            "Epoch 7/50\n",
            "100/100 - 16s - 157ms/step - acc: 0.9160 - loss: 0.2190 - val_acc: 0.9450 - val_loss: 0.1423\n",
            "Epoch 8/50\n",
            "100/100 - 16s - 162ms/step - acc: 0.9150 - loss: 0.2165 - val_acc: 0.9450 - val_loss: 0.1405\n",
            "Epoch 9/50\n",
            "100/100 - 15s - 152ms/step - acc: 0.9100 - loss: 0.2142 - val_acc: 0.9450 - val_loss: 0.1404\n",
            "Epoch 10/50\n",
            "100/100 - 21s - 215ms/step - acc: 0.9060 - loss: 0.2246 - val_acc: 0.9480 - val_loss: 0.1384\n",
            "Epoch 11/50\n",
            "100/100 - 20s - 200ms/step - acc: 0.9075 - loss: 0.2245 - val_acc: 0.9470 - val_loss: 0.1368\n",
            "Epoch 12/50\n",
            "100/100 - 15s - 152ms/step - acc: 0.9250 - loss: 0.1993 - val_acc: 0.9470 - val_loss: 0.1364\n",
            "Epoch 13/50\n",
            "100/100 - 21s - 210ms/step - acc: 0.9200 - loss: 0.2060 - val_acc: 0.9480 - val_loss: 0.1355\n",
            "Epoch 14/50\n",
            "100/100 - 15s - 152ms/step - acc: 0.9225 - loss: 0.2009 - val_acc: 0.9490 - val_loss: 0.1353\n",
            "Epoch 15/50\n",
            "100/100 - 15s - 150ms/step - acc: 0.9215 - loss: 0.2043 - val_acc: 0.9490 - val_loss: 0.1343\n",
            "Epoch 16/50\n",
            "100/100 - 22s - 217ms/step - acc: 0.9150 - loss: 0.2046 - val_acc: 0.9480 - val_loss: 0.1340\n",
            "Epoch 17/50\n",
            "100/100 - 20s - 204ms/step - acc: 0.9105 - loss: 0.2095 - val_acc: 0.9480 - val_loss: 0.1326\n",
            "Epoch 18/50\n",
            "100/100 - 19s - 195ms/step - acc: 0.9205 - loss: 0.2104 - val_acc: 0.9500 - val_loss: 0.1306\n",
            "Epoch 19/50\n",
            "100/100 - 21s - 205ms/step - acc: 0.9215 - loss: 0.1968 - val_acc: 0.9500 - val_loss: 0.1296\n",
            "Epoch 20/50\n",
            "100/100 - 15s - 153ms/step - acc: 0.9160 - loss: 0.2131 - val_acc: 0.9490 - val_loss: 0.1295\n",
            "Epoch 21/50\n",
            "100/100 - 20s - 202ms/step - acc: 0.9130 - loss: 0.2178 - val_acc: 0.9500 - val_loss: 0.1286\n",
            "Epoch 22/50\n",
            "100/100 - 22s - 222ms/step - acc: 0.9165 - loss: 0.2111 - val_acc: 0.9490 - val_loss: 0.1294\n",
            "Epoch 23/50\n",
            "100/100 - 16s - 161ms/step - acc: 0.9260 - loss: 0.1903 - val_acc: 0.9500 - val_loss: 0.1268\n",
            "Epoch 24/50\n",
            "100/100 - 16s - 161ms/step - acc: 0.9245 - loss: 0.2025 - val_acc: 0.9490 - val_loss: 0.1266\n",
            "Epoch 25/50\n",
            "100/100 - 17s - 170ms/step - acc: 0.9145 - loss: 0.2055 - val_acc: 0.9500 - val_loss: 0.1259\n",
            "Epoch 26/50\n",
            "100/100 - 16s - 160ms/step - acc: 0.9195 - loss: 0.2017 - val_acc: 0.9500 - val_loss: 0.1250\n",
            "Epoch 27/50\n",
            "100/100 - 20s - 201ms/step - acc: 0.9160 - loss: 0.2070 - val_acc: 0.9510 - val_loss: 0.1247\n",
            "Epoch 28/50\n",
            "100/100 - 21s - 210ms/step - acc: 0.9165 - loss: 0.1998 - val_acc: 0.9510 - val_loss: 0.1248\n",
            "Epoch 29/50\n",
            "100/100 - 15s - 153ms/step - acc: 0.9260 - loss: 0.1947 - val_acc: 0.9520 - val_loss: 0.1239\n",
            "Epoch 30/50\n",
            "100/100 - 15s - 152ms/step - acc: 0.9175 - loss: 0.1997 - val_acc: 0.9510 - val_loss: 0.1225\n",
            "Epoch 31/50\n",
            "100/100 - 22s - 217ms/step - acc: 0.9185 - loss: 0.2142 - val_acc: 0.9530 - val_loss: 0.1212\n",
            "Epoch 32/50\n",
            "100/100 - 19s - 194ms/step - acc: 0.9185 - loss: 0.2012 - val_acc: 0.9520 - val_loss: 0.1217\n",
            "Epoch 33/50\n",
            "100/100 - 21s - 213ms/step - acc: 0.9220 - loss: 0.2032 - val_acc: 0.9520 - val_loss: 0.1228\n",
            "Epoch 34/50\n",
            "100/100 - 19s - 192ms/step - acc: 0.9160 - loss: 0.2080 - val_acc: 0.9520 - val_loss: 0.1216\n",
            "Epoch 35/50\n",
            "100/100 - 21s - 214ms/step - acc: 0.9195 - loss: 0.1978 - val_acc: 0.9530 - val_loss: 0.1216\n",
            "Epoch 36/50\n",
            "100/100 - 20s - 197ms/step - acc: 0.9275 - loss: 0.1870 - val_acc: 0.9530 - val_loss: 0.1197\n",
            "Epoch 37/50\n",
            "100/100 - 16s - 155ms/step - acc: 0.9245 - loss: 0.1877 - val_acc: 0.9540 - val_loss: 0.1196\n",
            "Epoch 38/50\n",
            "100/100 - 20s - 200ms/step - acc: 0.9180 - loss: 0.1979 - val_acc: 0.9540 - val_loss: 0.1201\n",
            "Epoch 39/50\n",
            "100/100 - 16s - 160ms/step - acc: 0.9290 - loss: 0.1834 - val_acc: 0.9550 - val_loss: 0.1187\n",
            "Epoch 40/50\n",
            "100/100 - 15s - 154ms/step - acc: 0.9185 - loss: 0.1915 - val_acc: 0.9540 - val_loss: 0.1184\n",
            "Epoch 41/50\n",
            "100/100 - 21s - 207ms/step - acc: 0.9190 - loss: 0.1912 - val_acc: 0.9550 - val_loss: 0.1184\n",
            "Epoch 42/50\n",
            "100/100 - 21s - 211ms/step - acc: 0.9180 - loss: 0.1881 - val_acc: 0.9550 - val_loss: 0.1177\n",
            "Epoch 43/50\n",
            "100/100 - 16s - 161ms/step - acc: 0.9275 - loss: 0.1827 - val_acc: 0.9540 - val_loss: 0.1169\n",
            "Epoch 44/50\n",
            "100/100 - 15s - 151ms/step - acc: 0.9250 - loss: 0.1884 - val_acc: 0.9550 - val_loss: 0.1154\n",
            "Epoch 45/50\n",
            "100/100 - 22s - 215ms/step - acc: 0.9210 - loss: 0.1924 - val_acc: 0.9550 - val_loss: 0.1153\n",
            "Epoch 46/50\n",
            "100/100 - 19s - 195ms/step - acc: 0.9220 - loss: 0.1858 - val_acc: 0.9550 - val_loss: 0.1145\n",
            "Epoch 47/50\n",
            "100/100 - 20s - 204ms/step - acc: 0.9275 - loss: 0.1859 - val_acc: 0.9560 - val_loss: 0.1143\n",
            "Epoch 48/50\n",
            "100/100 - 16s - 160ms/step - acc: 0.9200 - loss: 0.1981 - val_acc: 0.9560 - val_loss: 0.1136\n",
            "Epoch 49/50\n",
            "100/100 - 20s - 197ms/step - acc: 0.9290 - loss: 0.1793 - val_acc: 0.9560 - val_loss: 0.1141\n",
            "Epoch 50/50\n",
            "100/100 - 16s - 160ms/step - acc: 0.9300 - loss: 0.1785 - val_acc: 0.9550 - val_loss: 0.1135\n"
          ]
        }
      ],
      "source": [
        "history = model.fit(\n",
        "      train_generator,\n",
        "      steps_per_epoch=100,\n",
        "      epochs=50,\n",
        "      validation_data=validation_generator,\n",
        "      validation_steps=50,\n",
        "      verbose=2)"
      ]
    },
    {
      "cell_type": "markdown",
      "metadata": {
        "id": "3EPGn58ofwq5"
      },
      "source": [
        "We are seeing a nice improvement, with the validation loss going from ~1.7 down to ~1.2, and accuracy going from 88% to 92%. That's a 4.5% relative improvement in accuracy.\n",
        "\n",
        "Let's plot the training and validation loss and accuracy to show it conclusively:"
      ]
    },
    {
      "cell_type": "code",
      "execution_count": 23,
      "metadata": {
        "colab": {
          "base_uri": "https://localhost:8080/",
          "height": 904
        },
        "id": "1FtxcKjJfxL9",
        "outputId": "9310f06b-edff-4b92-f105-c92a293c186c"
      },
      "outputs": [
        {
          "output_type": "execute_result",
          "data": {
            "text/plain": [
              "Text(0.5, 1.0, 'Training and validation loss')"
            ]
          },
          "metadata": {},
          "execution_count": 23
        },
        {
          "output_type": "display_data",
          "data": {
            "text/plain": [
              "<Figure size 640x480 with 1 Axes>"
            ],
            "image/png": "[encoded data removed]"
          },
          "metadata": {}
        },
        {
          "output_type": "display_data",
          "data": {
            "text/plain": [
              "<Figure size 640x480 with 1 Axes>"
            ],
            "image/png": "[encoded data removed]"
          },
          "metadata": {}
        }
      ],
      "source": [
        "%matplotlib inline\n",
        "\n",
        "import matplotlib.pyplot as plt\n",
        "import matplotlib.image as mpimg\n",
        "\n",
        "# Retrieve a list of accuracy results on training and validation data\n",
        "# sets for each training epoch\n",
        "acc = history.history['acc']\n",
        "val_acc = history.history['val_acc']\n",
        "\n",
        "# Retrieve a list of list results on training and validation data\n",
        "# sets for each training epoch\n",
        "loss = history.history['loss']\n",
        "val_loss = history.history['val_loss']\n",
        "\n",
        "# Get number of epochs\n",
        "epochs = range(len(acc))\n",
        "\n",
        "# Plot training and validation accuracy per epoch\n",
        "plt.plot(epochs, acc)\n",
        "plt.plot(epochs, val_acc)\n",
        "plt.title('Training and validation accuracy')\n",
        "\n",
        "plt.figure()\n",
        "\n",
        "# Plot training and validation loss per epoch\n",
        "plt.plot(epochs, loss)\n",
        "plt.plot(epochs, val_loss)\n",
        "plt.title('Training and validation loss')"
      ]
    },
    {
      "cell_type": "markdown",
      "metadata": {
        "id": "X-fUIeizakjE"
      },
      "source": [
        "Congratulations! Using feature extraction and fine-tuning, you've built an image classification model that can identify cats vs. dogs in images with over 90% accuracy."
      ]
    },
    {
      "cell_type": "markdown",
      "metadata": {
        "id": "x_ANwJCnx7w-"
      },
      "source": [
        "## Clean Up\n",
        "\n",
        "Run the following cell to terminate the kernel and free memory resources:"
      ]
    },
    {
      "cell_type": "code",
      "execution_count": null,
      "metadata": {
        "id": "-hUmyohAyBzh"
      },
      "outputs": [],
      "source": [
        "import os, signal\n",
        "os.kill(os.getpid(), signal.SIGKILL)"
      ]
    }
  ],
  "metadata": {
    "accelerator": "GPU",
    "colab": {
      "collapsed_sections": [
        "jTEzoMx6CasV"
      ],
      "name": "image_classification_part3.ipynb",
      "provenance": [],
      "include_colab_link": true
    },
    "kernelspec": {
      "display_name": "Python 3",
      "name": "python3"
    }
  },
  "nbformat": 4,
  "nbformat_minor": 0
}